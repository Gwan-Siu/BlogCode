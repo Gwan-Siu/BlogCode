{
 "cells": [
  {
   "cell_type": "markdown",
   "metadata": {},
   "source": [
    "# Variational Inference"
   ]
  },
  {
   "cell_type": "markdown",
   "metadata": {},
   "source": [
    "### 1. What's variational inference?"
   ]
  },
  {
   "cell_type": "markdown",
   "metadata": {},
   "source": [
    "Variational inference is an approximate technique, which is widely used in inference problem in modern statistic. As we all know, inferene problem is especially important in Bayesian statistics, which frames all inference about unknown quntities as a calculation about the posterior. In facr, posterior is usually intractable in modern Bayesian statistics. In order to sovle this kind of problem, Monte Carlo Markov Chain(MCMC) and variational inference are two main methods. MCMC is a technique of sampling, for example, Metropli-Hast algorithm and gibbs sampling, and variational inference(VI) turns inference into optimization problems. \n",
    "\n",
    "The core idea of VI is to posit a family of distribution and then to find the member of that family which is close to the target, where closeness is measured using the Kullback-Leibler divergence."
   ]
  },
  {
   "cell_type": "markdown",
   "metadata": {},
   "source": [
    "#### 1.1 Core idea of variational inference"
   ]
  },
  {
   "cell_type": "markdown",
   "metadata": {},
   "source": [
    "Suppose observed data $X$ and its latent variables $Z$, the prior of latent variables is $p(z)$ and the data likelihood is $p(x\\vert z)$, in many situation, we want to inference latent variables $Z$ through posterior $p(z\\vert x)$. In fact, the posterior is intractble due to the normalization term, where we have to integration over all latent variable $Z$. \n",
    "\n",
    "In this case, MCMC is usually adopted as an approximate computation for posterior inference. However in many situations, like when large data sets are involved or if the model is too complex, more faster approximate techniques is necessary, and VI is another strong alternative.\n",
    "\n",
    "As in EM, we start by writing the full-data likelihood:\n",
    "\n",
    "$$\n",
    "\\begin{align*}\n",
    "p(x,z) = p(z)p(x\\vert z)\\\\\n",
    "p(z\\vert x) = \\frac{p(x,z)}{p(x)}\n",
    "\\end{align*}\n",
    "$$\n",
    "\n",
    "The difference with EM is that we view $z$ as parameters, not just specific parameters such as cluster membership or missing data.\n",
    "\n",
    "Thus, we posit a family of approximate distribution $D$ over latent variables. We then try to find the member of family that minimizes the Kullback-Leibler divergence to the true posterior. This turns inference problem to optimization algorithm. \n",
    "\n",
    "$$\n",
    "q^{*}(z) = \\arg \\min_{q(z)\\in D} D_{KL}(q(z)\\vert\\vert p(z\\vert x))\n",
    "$$\n",
    "\n",
    "The figure below shows the core idea of VI: to approximate posterior $p(z\\vert x)$ with $q(z)$. We optimize $q(z)$ for minimal value of KL divergence."
   ]
  },
  {
   "cell_type": "markdown",
   "metadata": {},
   "source": [
    "![VI](https://raw.githubusercontent.com/Gwan-Siu/BlogCode/master/EM_and_VI/image/VI.png)"
   ]
  },
  {
   "cell_type": "markdown",
   "metadata": {},
   "source": [
    "**Comparision of MCMC and VI**"
   ]
  },
  {
   "cell_type": "markdown",
   "metadata": {},
   "source": [
    "| MCMC | VI  |\n",
    "| :----------: | :---: |\n",
    "| More computationally intensive | Less intensive |\n",
    "| Gaurantess producing asymptotically exact samples from the target distribution | No such gaurantees |\n",
    "| Slower | Faster, expecially for large data sets and complex distributions |\n",
    "| Best for precise inference | Useful to explore many scenarios quickly or large data sets |\n"
   ]
  },
  {
   "cell_type": "markdown",
   "metadata": {},
   "source": [
    "#### 1.2 How does variational inference work?"
   ]
  },
  {
   "cell_type": "markdown",
   "metadata": {},
   "source": [
    "The goal of the VI is:\n",
    "    \n",
    "$$\n",
    "\\begin{equation}\n",
    "q^{*}(z) = \\arg \\min_{q(z)\\in D}D_{KL}(q(z)\\vert \\vert p(z\\vert x))\n",
    "\\end{equation}\n",
    "$$\n",
    "\n",
    "In fact, to minimize the $D_{KL}(q(z)\\vert \\vert p(z\\vert x))$ is equivalent to maximize ELBO.\n",
    "\n",
    "$$\n",
    "\\begin{aligned}\n",
    "D_{KL} &= \\mathbb{E}_{q(z)}[\\log q(z)] -\\mathbb{E}_{q(z)}[\\log p(z\\vert x)] \\\\\n",
    "&= \\mathbb{E}_{q(z)}[\\log q(z)]-\\mathbb{E}_{q(z)}[\\log p(x,z)] + \\mathbb{E}_{q(z)}[\\log p(x)] \\\\\n",
    "\\Rightarrow \\log p(x) &= \\mathbb{E}_{q(z)}[\\log p(x,z)] -\\mathbb{E}_{q(z)}[\\log q(z)] + D_{KL}(q(z)\\vert \\vert p(z\\vert x))  \\\\\n",
    "\\log p(x) &= \\mathrm{ELBO}(q)+ D_{KL}(q(z)\\vert \\vert p(z\\vert x))\n",
    "\\end{aligned}\n",
    "$$\n",
    "\n",
    "where $\\mathrm{ELBO}(q)= \\mathbb{E}_{q(z)}[\\log p(x,z)] -\\mathbb{E}_{q(z)}[\\log q(z)]$, which is called evidence lower bound, and $\\mathbb{E}_{q(z)}[\\log p(x)] =\\log p(x)$  because $p(x)$ is independent with $q(z)$. "
   ]
  },
  {
   "cell_type": "markdown",
   "metadata": {},
   "source": [
    "The figure is like the one in EM, but the difference with EM is the likelihood $\\ln p(X\\vert\\theta)$ is fixed. The goal of VI is to minimize the KL divergence of $q$ and $p$, thus it's equivalent to maximize the ELBO $\\mathcal{L}(q,\\theta)$."
   ]
  },
  {
   "cell_type": "markdown",
   "metadata": {},
   "source": [
    "![VI](https://am207.github.io/2017/wiki/images/klsplitup.png)"
   ]
  },
  {
   "cell_type": "markdown",
   "metadata": {},
   "source": [
    "Therefore, we can turn our goal to an optimization problem: maximize $\\mathrm{ELBO}$ is equivalent to minimize the DL divergence. Our objective function is $\\mathrm{ELBO}$:\n",
    "\n",
    "$$\n",
    "\\begin{align}\n",
    "\\mathrm{ELBO} &= \\mathbb{E}_{q(z)}[\\log p(x,z)] - \\mathbb{E}_{q(z)}[\\log q(z)] \\\\\n",
    "&= \\mathbb{E}_{q(z)}[\\log p(x\\vert z)]+\\mathbb{E}_{q(z)}[\\log p(z)]-\\mathbb{E}_{q(z)}[\\log q(z)] \\\\\n",
    "&= \\mathbb{E}_{q(z)}[\\log p(x\\vert z)]-D_{KL}(q(z)\\vert p(z))\n",
    "\\end{align}\n",
    "$$"
   ]
  },
  {
   "cell_type": "markdown",
   "metadata": {},
   "source": [
    "- 1. The first term is the expectation of the data likelihood and thus $\\mathrm{ELBO}$ encourage distributions put their mass on configurations of latent variables that explain observed data. \n",
    "- 2. The second term is the negative KL divergence between the variational distribution and the prior, so the $\\mathrm{ELBO}$ force $q(z)$ to close to the prior $p(z)$.\n",
    "\n",
    "**Hence, maximize** $\\mathrm{ELBO}$ ** means to balance the likelihood and prior.**"
   ]
  },
  {
   "cell_type": "markdown",
   "metadata": {},
   "source": [
    "### 2. Mean-field Theory"
   ]
  },
  {
   "cell_type": "markdown",
   "metadata": {},
   "source": [
    "In the section 1, we know the core idea of VI and know the goal of VI is to maximize the $\\mathrm{ELBO}$. The sucessive question is how to choose the proposed family of distribution. Intuitively, the complexity of family of distributions we choose directly determine the complexity of the optimization problem. \n",
    "\n",
    "**The more flexibility in the family of distributions, the closer the approximation and the harder the optimization.**\n",
    "\n",
    "The priciple that we choose the family of distribution is **mean-field theory**.  **What's the mean-field theory?** the latent variables are mutually independent and each governed by a distinct factor in the variational distribution. A generic member of the mean-field variational family is given by the below equation-\n",
    "\n",
    "$$\n",
    "\\begin{equation}\n",
    "q(z) = \\prod_{j=1}^{m}q(z_{j})\n",
    "\\end{equation}\n",
    "$$\n",
    "\n",
    "the latent variable in mean-field theory is mutually independent, so it cannot capture the correlation in the original space. Once the latent variable of the posterior is dependent, the mean-field approximate will be affected. The example is below:\n",
    "\n",
    "![mean-field](http://7xpqrs.com1.z0.glb.clouddn.com/Fu9ZVDbU07MHvRwdhShbD7NisdZ4)\n",
    "\n",
    "**Notice that we are not making any comment about the conditional independence or lack thereof of posterior parameters. We are merely saying we will find new functions of these parameters such that we can multiply these functions to construct an approximate posterior.**"
   ]
  },
  {
   "cell_type": "markdown",
   "metadata": {},
   "source": [
    "### 3. CAVI Algorithm"
   ]
  },
  {
   "cell_type": "markdown",
   "metadata": {},
   "source": [
<<<<<<< HEAD
    "Now, we have goal(maximize $\\mathrm{ELBO}$) and choose mean-field family of distribution $q(z)=\\prod_{i=1}^{M} q(z_{i})$. **The next question is how to maximize $\\mathrm{ELBO}$?** At this time, coordinate ascent variational inference(CAVI) algorithm is introduced.\n",
    "\n",
    "The figure below is the process of CAVI algorithm:"
   ]
  },
  {
   "cell_type": "markdown",
   "metadata": {},
   "source": [
    "![CAVI](https://raw.githubusercontent.com/Gwan-Siu/BlogCode/master/EM_and_VI/image/CAVI.png)"
   ]
  },
  {
   "cell_type": "markdown",
   "metadata": {},
   "source": [
    "First of all, we compute the optimal distribution $q_{i}$:\n",
    "    \n",
    "$$\n",
    "\\begin{align}\n",
    "q &= \\mathbb{E}[p(\\cdot)] \\\\\n",
    "&= exp(\\log \\mathbb{E}[p(\\cdot)]) \\\\\n",
    "&\\approx exp(\\log \\mathbb{E}[p(\\cdot)]-Var(p(\\cdot))/(2\\ast \\mathbb{E}[p(\\cdot)]^{2}) \\\\\n",
    "&= exp(\\log \\mathbb{E}[p(\\cdot)])\\ast exp(h(p(\\cdot))) \\\\\n",
    "&< exp(\\log \\mathbb{E}[p(\\cdot)])\n",
    "\\end{align}\n",
    "$$\n",
    "\n",
    "Apply second order Taylor expansion, we have $q=exp(\\log \\mathbb{E}[p(\\cdot)])\\ast exp(h(p(\\cdot)))$, and $q^{\\ast}_{j}(z_{j})=\\mathbb{E}[p(z_{j}\\vert z_{-j}, x)]$, hence $q_{j}$ is propotional to the log conditional expectation:\n",
    "\n",
    "$$\n",
    "\\begin{equation}\n",
    "q_{j}^{\\ast}(z_{j}) \\propto exp(\\mathbb{E}_{-j}[\\log p(z_{j}\\vert z_{-j},x)])\n",
    "\\end{equation}\n",
    "$$\n",
    "\n",
    "Due to that the latent variable are multually independent, the RHS can be rewritten as:\n",
    "\n",
    "$$\n",
    "\\begin{align}\n",
    "\\mathbb{E}_{-j}[\\log p(z_{j}\\vert z_{-j}, x)] &= \\mathbb{E}_{-j}[\\log \\frac{p(z_{j}, z_{-j}\\vert x)}{p(z_{-j})}] \\\\\n",
    "&= \\mathbb{E}_{-j}[\\log p(z_{j}, z_{-j}\\vert x)]-E_{-j}[\\log p(z_{-j})] \\\\\n",
    "&= \\mathbb{E}_{-j}[\\log p(z_{j}, z_{-j}, x)] - \\mathbb{E}[\\log p(z_{-j})]-E_{-j}[\\log p(x)] \\\\\n",
    "&= \\mathbb{E}_{-j}[\\log p(z_{j}, z_{-j}, z)-const]\n",
    "\\end{align}\n",
    "$$\n",
    "\n",
    "Hence, we can conclude that once we know the log expectation of joint distribution, we obatain the optimal variational distribution $q_{j}^{\\ast}$:\n",
    "\n",
    "$$\n",
    "\\begin{align}\n",
    "q_{j}^{\\ast} &\\propto exp(\\mathbb{E}[\\log p(z_{j}, z_{-j}, x)]-const) \\\\\n",
    "q_{j}^{\\ast}(z_{j}) &\\propto exp(\\mathbb{E}_{-j}[\\log p(z_{j}, z_{-j}, x)])\n",
    "\\end{align}\n",
    "$$\n",
    "\n",
    "最后，在平均场变分分布族的假设下，ELBO可以被分解为对每一个隐变量zj的函数。根据隐变量分解后的ELBO中，利用q分布的平均场性质，第一项将联合概率的期望迭代求出，第二项分解了变分分布的期望。当我们最大化qj时，也就最大化了分解后的ELBO。\n",
    "\n",
    "$$\n",
    "\\begin{align}\n",
    "\\mathrm{ELBO}(q) &= \\mathbb{E}_{q(z)}[\\log p(z,x)] - \\mathbb{E}_{q(z)}[\\log q(z)] \\\\\n",
    "\\mathrm{ELBO}(q_{j}) &= \\mathbb{E}_{j}[\\mathbb{E}_{-j}[p(z_{j},, z_{-j}, x)]]- \\mathbb{E}_{j}[\\log q_{j}(z_{j})] + const\n",
    "\\end{align}\n",
    "$$"
   ]
  },
  {
   "cell_type": "markdown",
   "metadata": {},
   "source": [
=======
>>>>>>> origin/master
    "### 4. Variational inference and GMM"
   ]
  },
  {
<<<<<<< HEAD
   "cell_type": "markdown",
   "metadata": {
    "collapsed": true
   },
   "source": [
    "In this section, CAVI algorithm is used for Mixture of Gaussians model(GMM). It will be helpful to understand how CAVI works."
   ]
  },
  {
   "cell_type": "markdown",
   "metadata": {},
   "source": [
    "####  4.1 Joint distribution computation"
   ]
  },
  {
   "cell_type": "markdown",
   "metadata": {},
   "source": [
    "Given observed data $X=(x_{1},...,x_{n})$ from $K$ independent gaussian distribution with mean $\\mu_{k}$. One-hot vector $c_{i}\\in \\mathbb{R}^{k}$ indicate the distribution to which each data belong. The hyperparameter $\\sigma^{2}$ is fixed. latent variables are $\\mu, c$. The prior is:\n",
    "\n",
    "$$\n",
    "\\begin{align}\n",
    "\\mu_{k} \\sim \\mathcal{N}(0, \\sigma^{2}) \\\\\n",
    "c_{i} \\sim Categorical(\\frac{1}{K},...,\\frac{1}{K}) \\\\\n",
    "x_{i} \\sim \\mathcal{N}(c_{i}^{T}, \\mu, 1)\n",
    "\\end{align}\n",
    "$$\n",
    "\n",
    "According to bay theroem, we can compute the joint distribution:\n",
    "\n",
    "$$\n",
    "\\begin{align}\n",
    "p(\\mu, c,x) &= p(\\mu)p(c,x\\vert \\mu) \\\\\n",
    "&= p(\\mu)p(c)p(x\\vert c, \\mu) \\\\\n",
    "&=p(\\mu)\\prod_{i=1}^{n}p(c_{i})p(x_{i}\\vert c_{i}, \\mu)\n",
    "\\end{align}\n",
    "$$\n",
    "\n",
    "once we have joint distribution, we can compute marginal distribution. However, the formulation has no analytical solution, and the computational complexity is $\\mathcal{O}(K^{n})$.\n",
    "\n",
    "$$\n",
    "\\begin{align}\n",
    "p(x) &= \\int \\sum_{c}p(\\mu, c, x)\\mathrm{d}\\mu \\\\\n",
    "&= \\int p(\\mu)\\prod_{i=1}^{n}\\sum_{c_{i}}p(c_{i})p(x_{i}\\vert c_{i}, \\mu)\\mathrm{d}\\mu\n",
    "\\end{align}\n",
    "$$"
   ]
  },
  {
   "cell_type": "markdown",
   "metadata": {},
   "source": [
    "#### 4.2 GMM and CAVI"
   ]
  },
  {
   "cell_type": "markdown",
   "metadata": {},
   "source": [
    "Now, we should compute variational ditribution $q(z)$, where $m=(m_{1},...,m_{k}), s^{2}=(s_{1}^{2},...,s_{K}^{2}), \\phi=(\\phi_{1},...,\\phi_{n})$ are variational parameters, hence the formulation of variational distribution is:\n",
    "\n",
    "$$\n",
    "\\begin{align}\n",
    "q(z) &= q(\\mu,c) \\\\\n",
    "&= \\prod_{k=1}^{K}q(\\mu_{k};m_{k},s_{k}^{2})\\cdot \\prod_{i=1}^{n}q(c_{i};\\phi_{i})\n",
    "\\end{align}\n",
    "$$\n",
    "\n",
    "- 1. we can obtain the formulation $\\mathrm{ELBO}$, which is a function of $m,s^{2},\\phi$.\n",
    "\n",
    "$$\n",
    "\\begin{align}\n",
    "\\mathrm{ELBO}(q) &= \\mathrm{ELBO}(m, s^{2}, \\phi) \\\\\n",
    "&= \\mathbb{E}_{q(z)}[\\log p(x\\vert z)] + \\mathbb{E}_{q(z)}[\\log p(z)]-\\mathbb{E}_{q(z)}[\\log q(z)] \\\\\n",
    "&= \\sum_{i=1}^{n} \\mathbb{E}[\\log p(x_{i}\\vert c_{i}, \\mu;\\phi_{i}, m, s^{2})] +(\\sum_{k=1}^{K}\\mathbb{E}[\\log p(\\mu_{k};m_{k},s^{2}_{k})]+\\sum_{i=1}^{n}\\mathbb{E}[\\log p(c_{i};\\phi_{i})]) \\\\\n",
    "&- (\\sum_{k=1}^{K}\\mathbb{E}[\\log q(\\mu_{k};m_{k}, s_{k}^{2})]+\\sum_{i=1}^{n}\\mathbb{E}[\\log q(c_{i};\\phi_{i}])\n",
    "\\end{align}\n",
    "$$"
   ]
  },
  {
   "cell_type": "markdown",
   "metadata": {},
   "source": [
    "- 2. from section 3, we obtain how CAVI algorithm update latent variables. Now, we applyied it into GMM to compute **cluster indicator** $c$ and update $c$, noted $\\mu$ is fixed:\n",
    "\n",
    "    $$\n",
    "    \\begin{align}\n",
    "        q^{\\ast}_{j} &\\propto exp(\\mathbb{E}_{\\mu}[\\log p(c_{i}, \\mu, x_{i})]) \\\\\n",
    "        &\\propto exp(\\mathbb{E}[\\log p(x_{i}\\vert c_{i}, \\mu)\\cdot \\log p(c_{i},\\mu)]) \\\\\n",
    "        &\\propto exp(\\mathbb{E}_{\\mu}[\\log p(x_{i}\\vert c_{i}, \\mu)]+\\mathbb{E}_{\\mu}[\\log p(c_{i}, \\mu)]) \\\\\n",
    "        &\\propto exp(\\mathbb{E}_{\\mu}[\\log p(c_{i}\\vert c_{i},\\mu)]+\\log p(c_{i}))\n",
    "    \\end{align}\n",
    "    $$"
   ]
  },
  {
   "cell_type": "markdown",
   "metadata": {},
   "source": [
    "the second term $\\log p(c_{i})$ is log prior and it is a constant. Hence, we pay our attention to the first term: the distribution of $c_{i}$ gaussian distribution. In detail, we simplify it due to $c_{i}=(c_{i1},...,c_{ik})$ is one-hot vector, and we have:\n",
    "\n",
    "$$\n",
    "\\begin{align}\n",
    "\\mathbb{E}[\\log p(x_{i}\\vert c_{i},\\mu)] &= \\sum_{k}c_{ik}\\mathbb{E}_{\\mu_{k}}[\\log p(x_{i}\\vert \\mu_{k})] \\\\\n",
    "&= \\sum_{k}c_{ik}\\mathbb{E}_{\\mu_{k}}[-\\frac{(x-\\mu_{k})^{2}}{2}]+const \\\\\n",
    "&= \\sum_{k}c_{ik}(\\mathbb{E}_{\\mu_{k}}[\\mu_{k}]x_{i}+\\mathbb{E}_{\\mu_{k}}[\\mu_{k}^{2}]/2) + const\n",
    "\\end{align}\n",
    "$$"
   ]
  },
  {
   "cell_type": "markdown",
   "metadata": {},
   "source": [
    "from the formulation above, $\\mathbb{E}[\\mu_{k}]$ and $\\mathbb{E}[\\mu_{k}^{2}]$ can be computed. For each data point $i$, parameter $\\phi_{ik}$ in the $k$th component of the latent variable $c$. The updated formulation is:\n",
    "\n",
    "$$\n",
    "\\begin{equation}\n",
    "\\phi_{ik}\\propto exp(\\mathbb{E}[\\mu_{k}]x_{i}+\\mathbb{E}[\\mu_{k}^{2}]/2)\n",
    "\\end{equation}\n",
    "$$\n",
    "\n",
    "smiliarly, we can compute latent variable $\\mu$ of GMM. Firstly, we should calculate the optimal variational distribution $q(\\mu_{k})$, and the update the parameter $m_{k}, s_{k}^{2}$ of $\\mu_{k}$:\n",
    "\n",
    "$$\n",
    "\\begin{align}\n",
    "m_{k} &= \\frac{\\sum_{i}\\phi_{ik}\\cdot x_{i}}{1/\\sigma^{2}+\\sum_{i}\\phi_{ik}} \\\\\n",
    "s_{k}^{2} &= \\frac{1}{1/\\sigma^{2}+\\sum_{i}\\phi_{ik}}\n",
    "\\end{align}\n",
    "$$"
   ]
  },
  {
   "cell_type": "markdown",
   "metadata": {},
   "source": [
    "The algorithm of GMM and CAVI is below:\n",
    "\n",
    "![GMMCAVI](https://raw.githubusercontent.com/Gwan-Siu/BlogCode/master/EM_and_VI/image/GMMCAVI.png)"
   ]
  },
  {
   "cell_type": "markdown",
   "metadata": {},
   "source": [
    "## Code of GMM and CAVI"
   ]
  },
  {
   "cell_type": "code",
   "execution_count": 8,
   "metadata": {
    "collapsed": true
   },
   "outputs": [],
   "source": [
    "import numpy as np\n",
    "import matplotlib.pyplot as plt\n",
    "import scipy as sp\n",
    "import matplotlib.cm as cm\n",
    "import matplotlib as mpl\n",
    "import seaborn as sns\n",
    "sns.set_style('whitegrid')\n",
    "sns.set_context('poster')\n",
    "%matplotlib inline"
   ]
  },
  {
   "cell_type": "code",
   "execution_count": 9,
   "metadata": {
    "collapsed": true
   },
   "outputs": [],
   "source": [
    "import math\n",
    "from scipy.stats import multivariate_normal as mv"
   ]
  },
  {
   "cell_type": "code",
   "execution_count": 46,
   "metadata": {},
   "outputs": [
    {
     "name": "stdout",
     "output_type": "stream",
     "text": [
      "the mean of these three cluster: [-1.2119435442168178, -8.478964340090602, -1.3992471444357935]\n"
     ]
    }
   ],
   "source": [
    "# hyperparameters\n",
    "prior_std = 10\n",
    "\n",
    "# true parameters\n",
    "K =  3\n",
    "mu = []\n",
    "random.seed(1032)\n",
    "for i in range(K):\n",
    "    mu.append(np.random.normal(0, prior_std))\n",
    "\n",
    "var = 1\n",
    "var_arr = [1, 1, 1]\n",
    "\n",
    "color = ['blue', 'green', 'red', 'magenta', 'yellow']\n",
    "\n",
    "print('the mean of these three cluster:', mu)"
   ]
  },
  {
   "cell_type": "code",
   "execution_count": 47,
   "metadata": {},
   "outputs": [
    {
     "name": "stdout",
     "output_type": "stream",
     "text": [
      "the shape of mixture_selection_data: (3, 3)\n",
      "the shaoe of N: (1000,)\n"
     ]
    }
   ],
   "source": [
    "n = 1000\n",
    "\n",
    "# simulated data\n",
    "mixture_selection_data = np.identity(K)\n",
    "print('the shape of mixture_selection_data:',mixture_selection_data.shape)\n",
    "N = np.random.choice(K, n)\n",
    "print('the shaoe of N:', N.shape)"
   ]
  },
  {
   "cell_type": "code",
   "execution_count": 48,
   "metadata": {},
   "outputs": [
    {
     "data": {
      "image/png": "iVBORw0KGgoAAAANSUhEUgAAAlkAAAHbCAYAAAD4aI8JAAAABHNCSVQICAgIfAhkiAAAAAlwSFlz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\nAElFTkSuQmCC\n",
      "text/plain": [
       "<matplotlib.figure.Figure at 0x11c7905f8>"
      ]
     },
     "metadata": {},
     "output_type": "display_data"
    }
   ],
   "source": [
    "from collections import defaultdict\n",
    "data = []\n",
    "data_resp = defaultdict(list)\n",
    "\n",
    "plt.figure(1, figsize=(10,8))\n",
    "for i in range(n):\n",
    "    # pick category\n",
    "    mean = np.dot(mixture_selection_data[N[i]], mu)\n",
    "    cov = np.dot(mixture_selection_data[N[i]], var_arr) * var\n",
    "    \n",
    "    # get the point from distribution\n",
    "    x  = np.random.normal(mean, cov)\n",
    "    data.append(x)\n",
    "    data_resp[N[i]].append(x)\n",
    "\n",
    "for k in range(K):\n",
    "    plt.hist(data_resp[k], bins=30, color=color[k], histtype='step', lw=2)\n",
    "plt.hist(data, color='k', bins=90, alpha=0.1);"
   ]
  },
  {
   "cell_type": "code",
   "execution_count": 54,
   "metadata": {},
   "outputs": [],
   "source": [
    "def VI(K, prior_std, n, data):\n",
    "    # initialization\n",
    "    mu_mean = []\n",
    "    mu_var = []\n",
    "    for i in range(K):\n",
    "        mu_mean.append(np.random.normal(0, prior_std))\n",
    "        mu_var.append(abs(np.random.normal(0, prior_std)))\n",
    "    c_est = np.zeros((n, K))\n",
    "    for i in range(n):\n",
    "        c_est[i, np.random.choice(K)] = 1\n",
    "    while(True):\n",
    "        mu_mean_old = mu_mean[:]\n",
    "        \n",
    "        # mixture model parameters update step\n",
    "        for j in range(K):\n",
    "            nr = 0\n",
    "            dr = 0\n",
    "            for i in range(n):\n",
    "                nr += c_est[i, j] * data[i]\n",
    "                dr += c_est[i, j]\n",
    "            mu_mean[j] = nr/((1/prior_std**2) + dr)\n",
    "            mu_var[j] = 1.0/((1/prior_std**2) + dr)\n",
    "        \n",
    "        # categorical vector update step\n",
    "        for i in range(n):\n",
    "            cat_vec = []\n",
    "            for j in range(K):\n",
    "                cat_vec.append(math.exp(mu_mean[j]*data[i]-(mu_var[j] + mu_mean[j]**2)/2))\n",
    "            for k in range(K):\n",
    "                c_est[i, k] = cat_vec[k]/np.sum(np.array(cat_vec))\n",
    "        \n",
    "        if (np.sum((np.array(mu_mean_old)-np.array(mu_mean))**2)<0.000001):\n",
    "            break\n",
    "        \n",
    "    # compute ELBO or check for convergence components don't maintain any ordering\n",
    "    mixture_components = list(zip(mu_mean,mu_var))\n",
    "    mixture_components.sort()\n",
    "    return mixture_components, c_est"
   ]
  },
  {
   "cell_type": "code",
   "execution_count": 56,
   "metadata": {},
   "outputs": [
    {
     "data": {
      "image/png": "iVBORw0KGgoAAAANSUhEUgAAAl0AAAHbCAYAAADxgy9zAAAABHNCSVQICAgIfAhkiAAAAAlwSFlz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\nSwghhBBCDyTpEkIIIYTQg/8HoV/nlhyypRMAAAAASUVORK5CYII=\n",
      "text/plain": [
       "<matplotlib.figure.Figure at 0x11cc50320>"
      ]
     },
     "metadata": {},
     "output_type": "display_data"
    }
   ],
   "source": [
    "# Run the CAVI algorithm\n",
    "mixture_components, c_est = VI(K, prior_std, n, data)\n",
    "\n",
    "plt.figure(figsize=(10,8))\n",
    "for k in range(K):\n",
    "    plt.hist(data_resp[k], bins=30, color=color[k], alpha=0.2, normed=True);\n",
    "for k in range(K):\n",
    "    vals = np.random.normal(mixture_components[k][0], 1, size=1000);\n",
    "    sns.kdeplot(vals, color='k');"
   ]
  },
  {
=======
>>>>>>> origin/master
   "cell_type": "code",
   "execution_count": null,
   "metadata": {
    "collapsed": true
   },
   "outputs": [],
   "source": []
  }
 ],
 "metadata": {
  "kernelspec": {
<<<<<<< HEAD
   "display_name": "Python 3",
   "language": "python",
   "name": "python3"
=======
   "display_name": "Python 2",
   "language": "python",
   "name": "python2"
>>>>>>> origin/master
  },
  "language_info": {
   "codemirror_mode": {
    "name": "ipython",
<<<<<<< HEAD
    "version": 3
=======
    "version": 2
>>>>>>> origin/master
   },
   "file_extension": ".py",
   "mimetype": "text/x-python",
   "name": "python",
   "nbconvert_exporter": "python",
<<<<<<< HEAD
   "pygments_lexer": "ipython3",
   "version": "3.6.3"
=======
   "pygments_lexer": "ipython2",
   "version": "2.7.13"
>>>>>>> origin/master
  }
 },
 "nbformat": 4,
 "nbformat_minor": 2
}
