{
 "cells": [
  {
   "cell_type": "code",
   "execution_count": 1,
   "metadata": {
    "collapsed": true
   },
   "outputs": [],
   "source": [
    "import numpy as np\n",
    "from sklearn.neighbors import NearestNeighbors\n",
    "from sklearn.neighbors import KDTree, BallTree\n",
    "import matplotlib.pylab as plt\n",
    "from sklearn.model_selection import train_test_split\n",
    "import time\n",
    "import math"
   ]
  },
  {
   "cell_type": "code",
   "execution_count": null,
   "metadata": {},
   "outputs": [],
   "source": [
    "## Set the parameters\n",
    "num_sample = 50000 # the number of sample is 100000 in each distribution\n",
    "fea_dim = 1000 # the dimension of each feature is 1000\n",
    "mu_list = [3, 5, 10]\n",
    "var_list = [0.1, 1, 1.5]\n",
    "data = list()\n",
    "label = list()\n",
    "\n",
    "## Create the dataset\n",
    "for num, param in enumerate(zip(mu_list, var_list)):\n",
    "    mu, var = param[0], param[1]\n",
    "    temp_data = (mu+np.random.randn(num_sample, fea_dim))*var + np.random.randn(num_sample, fea_dim)\n",
    "    temp_label = num*np.ones((temp_data.shape[0],1))\n",
    "    data.append(temp_data)\n",
    "    label.append(temp_label)\n",
    "\n",
    "data = np.array(data)\n",
    "label = np.array(label)\n",
    "\n",
    "data = data.reshape(data.shape[0]*data.shape[1], data.shape[2])\n",
    "label = label.reshape(label.shape[0]*label.shape[1], label.shape[2])\n",
    "\n",
    "\n",
    "X_train, X_test, Y_train, Y_test = train_test_split(data, label, test_size=0.1)"
   ]
  },
  {
   "cell_type": "code",
   "execution_count": null,
   "metadata": {},
   "outputs": [],
   "source": [
    "## Naive KNN \n",
    "k = 1\n",
    "naive_knn = NearestNeighbors(n_neighbors=k, algorithm='brute', metric='euclidean')\n",
    "naive_knn.fit(X_train, Y_train)\n",
    "\n",
    "Naive_start = time.time()\n",
    "index = naive_knn.kneighbors(X_test, return_distance=False).reshape(-1)\n",
    "Naive_end = time.time()\n",
    "acc = np.sum(Y_train.reshape(-1)[index]==Y_test.reshape(-1))/Y_test.shape[0]\n",
    "print(\"the accuracy is {:.3f}, the time cost of naive KNN is: {: .3f}s\".format(acc, (Naive_end-Naive_start)))"
   ]
  },
  {
   "cell_type": "code",
   "execution_count": null,
   "metadata": {},
   "outputs": [],
   "source": [
    "## KD-tree\n",
    "\n",
    "leaf_size = 100\n",
    "con_start = time.time()\n",
    "kd_tree = KDTree(X_train, leaf_size=leaf_size)\n",
    "con_end = time.time()\n",
    "con_tree = con_end - con_start\n",
    "\n",
    "kd_tree_nn_start = time.time()\n",
    "index = kd_tree.query(X_test, k=k, return_distance=False).reshape(-1)\n",
    "kd_tree_nn_end = time.time()\n",
    "acc = np.sum(Y_train.reshape(-1)[index]==Y_test.reshape(-1))/Y_test.shape[0]\n",
    "print(\"the construction time is {: .3f}s, the accuracy is {:.3f}, the time cost of KNN based on KD-tree is: {: .3f}s\".format(con_tree, acc, (kd_tree_nn_end- kd_tree_nn_start)))"
   ]
  },
  {
   "cell_type": "code",
   "execution_count": null,
   "metadata": {},
   "outputs": [],
   "source": [
    "## Ball-Tree\n",
    "\n",
    "leaf_size = 100\n",
    "con_start = time.time()\n",
    "ball_tree = BallTree(X_train, leaf_size=leaf_size)\n",
    "con_end = time.time()\n",
    "con_tree = con_end - con_start\n",
    "\n",
    "ball_tree_nn_start = time.time()\n",
    "index = ball_tree.query(X_test, k=k, return_distance=False).reshape(-1)\n",
    "ball_tree_nn_end = time.time()\n",
    "acc = np.sum(Y_train.reshape(-1)[index]==Y_test.reshape(-1))/Y_test.shape[0]\n",
    "print(\"the construction time is {: .3f}s, the accuracy is {:.3f}, the time cost of KNN based on Ball-tree is: {: .3f}s\".format(con_tree, acc, (ball_tree_nn_end- ball_tree_nn_start)))\n"
   ]
  },
  {
   "cell_type": "code",
   "execution_count": null,
   "metadata": {
    "collapsed": true
   },
   "outputs": [],
   "source": [
    "## Ball KNN \n",
    "k = 1\n",
    "\n",
    "con_tree_start = time.time()\n",
    "BallTree_knn = NearestNeighbors(n_neighbors=k, algorithm='ball_tree', leaf_size=100, metric='euclidean')\n",
    "con_tree_end = time.time()\n",
    "con_tree = con_tree_end - con_tree_end\n",
    "\n",
    "BallTree_knn.fit(X_train, Y_train)\n",
    "\n",
    "BallTree_start = time.time()\n",
    "index = BallTree_knn.kneighbors(X_test, return_distance=False).reshape(-1)\n",
    "BallTree_end = time.time()\n",
    "acc = np.sum(Y_train.reshape(-1)[index]==Y_test.reshape(-1))/Y_test.shape[0]\n",
    "print(\"the time cost to construct tree is {: .3f}, the accuracy is {:.3f}, the time cost of naive KNN is: {: .3f}s\".format(con_tree, acc, (BallTree_end-BallTree_start)))"
   ]
  },
  {
   "cell_type": "code",
   "execution_count": null,
   "metadata": {
    "collapsed": true
   },
   "outputs": [],
   "source": []
  }
 ],
 "metadata": {
  "kernelspec": {
   "display_name": "Python 3",
   "language": "python",
   "name": "python3"
  },
  "language_info": {
   "codemirror_mode": {
    "name": "ipython",
    "version": 3
   },
   "file_extension": ".py",
   "mimetype": "text/x-python",
   "name": "python",
   "nbconvert_exporter": "python",
   "pygments_lexer": "ipython3",
   "version": "3.6.3"
  }
 },
 "nbformat": 4,
 "nbformat_minor": 2
}
