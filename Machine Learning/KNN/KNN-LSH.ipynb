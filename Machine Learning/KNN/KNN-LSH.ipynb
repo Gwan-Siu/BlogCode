{
 "cells": [
  {
   "cell_type": "code",
   "execution_count": 1,
   "metadata": {
    "collapsed": true
   },
   "outputs": [],
   "source": [
    "## load package\n",
    "\n",
    "import numpy as np\n",
    "import matplotlib.pylab as plt\n",
    "import seaborn as sns\n",
    "import time"
   ]
  },
  {
   "cell_type": "code",
   "execution_count": 23,
   "metadata": {},
   "outputs": [],
   "source": [
    "## KNN Algorithm\n",
    "\n",
    "def knn(x_text, x_train, y_train, k=1):\n",
    "    \n",
    "    # In this case, we adopted Euclidean distance\n",
    "    # x_test is 1xd vector\n",
    "    # x_train is nxd matrix, where n is the number of sample\n",
    "    # y_train is nx1 matrix, a label matrix\n",
    "    \n",
    "#     dis = np.sum((x_test - x_train)**2, axis=1)\n",
    "    dis = np.zeros(x_train.shape)\n",
    "    for i in range(x_train.shape[0]):\n",
    "        dis[i,:] = x_test - x_train[i,:]\n",
    "    dis = np.sum(dis**2,axis=1)\n",
    "    index_list = np.argsort(dis)\n",
    "    k_condidate = y_train[index_list[:k]].ravel()\n",
    "    vote_dic = {}\n",
    "    \n",
    "    for i in k_condidate:\n",
    "        if i not in vote_dic.keys():\n",
    "            vote_dic[i] = 1\n",
    "            break\n",
    "        vote_dic.has_key[i] += 1\n",
    "    \n",
    "    pred_y, temp_vote =0, 0\n",
    "    for key, vote in vote_dic.items():\n",
    "        if vote > temp_vote:\n",
    "            pred_y = key\n",
    "            temp_vote = vote\n",
    "            \n",
    "    return pred_y"
   ]
  },
  {
   "cell_type": "code",
   "execution_count": 3,
   "metadata": {
    "collapsed": true
   },
   "outputs": [],
   "source": [
    "## Compute the vote list\n",
    "def vote_comp(k_condidate):\n",
    "    vote_dic = {}\n",
    "    \n",
    "    for i in k_condidate:\n",
    "        if i not in vote_dic.keys():\n",
    "            vote_dic[i] = 1\n",
    "            break\n",
    "        vote_dic.has_key[i] += 1\n",
    "    \n",
    "    pred_y, temp_vote =0, 0\n",
    "    for key, vote in vote_dic.items():\n",
    "        if vote > temp_vote:\n",
    "            pred_y = key\n",
    "            temp_vote = vote\n",
    "    return pred_y"
   ]
  },
  {
   "cell_type": "code",
   "execution_count": 4,
   "metadata": {},
   "outputs": [],
   "source": [
    "### Create a hash table\n",
    "\n",
    "class HashTable:\n",
    "    \n",
    "    def __init__(self, hash_size, input_dimensions):\n",
    "        self.hash_size = hash_size\n",
    "        self.hash_dimensions = input_dimensions\n",
    "        self.hash_table = dict()\n",
    "        self.projections = np.random.randn(hash_size, input_dimensions)\n",
    "        \n",
    "    def generate_hash(self, input_vec):\n",
    "        code = (np.dot(input_vec, self.projections.T)>0).astype('int')\n",
    "        return ''.join(code.astype('str'))\n",
    "    \n",
    "    def setitem(self, input_vec, label):\n",
    "        hash_code = self.generate_hash(input_vec)\n",
    "        data = np.concatenate((input_vec, label))\n",
    "        self.hash_table[hash_code] = self.hash_table.get(hash_code, list()) + [data]\n",
    "    \n",
    "    def getitem(self, input_vec):\n",
    "        hash_code = self.generate_hash(input_vec)\n",
    "        return self.hash_table.get(hash_code, [])"
   ]
  },
  {
   "cell_type": "code",
   "execution_count": 5,
   "metadata": {
    "collapsed": true
   },
   "outputs": [],
   "source": [
    "## Local sensitive hash\n",
    "\n",
    "class LSH:\n",
    "    def __init__(self, num_table, hash_size, input_dimensions):\n",
    "        self.num_table = num_table\n",
    "        self.hash_size = hash_size\n",
    "        self.input_dimensions = input_dimensions\n",
    "        self.table_list = list()\n",
    "        for i in range(num_table):\n",
    "            self.table_list.append(HashTable(self.hash_size, self.input_dimensions))\n",
    "    \n",
    "    def setitem(self, input_vec, label):\n",
    "        for table in self.table_list:\n",
    "            table.setitem(input_vec, label)\n",
    "    \n",
    "    def getitem(self, input_vec):\n",
    "        res_dict = dict()\n",
    "        for num, table in enumerate(self.table_list):\n",
    "            res_dict[num] = np.array(table.getitem(input_vec))\n",
    "        return res_dict"
   ]
  },
  {
   "cell_type": "code",
   "execution_count": 27,
   "metadata": {},
   "outputs": [],
   "source": [
    "## Create Training dataset\n",
    "## multinormal gausian distribuiton with mu1=5, mu2=10, var=3, var=1\n",
    "\n",
    "mu1, mu2 = 5, 10\n",
    "cov1, cov2 = 3, 1\n",
    "\n",
    "x_train_1 = (mu1+np.random.randn(100000, 1000))*cov1\n",
    "x_train_2 = (mu2+np.random.randn(100000, 1000))*cov2\n",
    "y_train_1 = np.ones((1, x_train_1.shape[0]))\n",
    "y_train_2 = np.zeros((1, x_train_2.shape[0]))\n",
    "\n",
    "x_train = np.vstack((x_train_1, x_train_2))\n",
    "y_train = np.hstack((y_train_1, y_train_2))\n",
    "\n",
    "x_test = (mu1+np.random.randn(1,1000)) *cov1"
   ]
  },
  {
   "cell_type": "code",
   "execution_count": 28,
   "metadata": {},
   "outputs": [
    {
     "data": {
      "text/plain": [
       "(1, 200000)"
      ]
     },
     "execution_count": 28,
     "metadata": {},
     "output_type": "execute_result"
    }
   ],
   "source": [
    "y_train.shape"
   ]
  },
  {
   "cell_type": "code",
   "execution_count": 29,
   "metadata": {},
   "outputs": [],
   "source": [
    "## create a hash table with code length 4\n",
    "lsh = LSH(num_table=3, hash_size=4, input_dimensions=1000)\n",
    "for i in range(x_train.shape[0]):\n",
    "    lsh.setitem(x_train[i,:], y_train[:,i])"
   ]
  },
  {
   "cell_type": "code",
   "execution_count": 30,
   "metadata": {},
   "outputs": [
    {
     "name": "stdout",
     "output_type": "stream",
     "text": [
      "the search time of LSH is 133.101184, the search time of naive knn is 34.508209\n"
     ]
    }
   ],
   "source": [
    "result = lsh.getitem(x_test[0,:])\n",
    "pred_result = list()\n",
    "for key in result.keys():\n",
    "    data, label = result[key][:,:-1], result[key][:,-1].reshape(result[key][:,-1].shape[0], 1)\n",
    "    pred_result.append(knn(x_test, data, label, k=1))\n",
    "lsh_time_start = time.time()\n",
    "pred_lsh = vote_comp(pred_result)\n",
    "lsh_time_end = time.time()\n",
    "\n",
    "naive_knn_start = time.time()\n",
    "pred_y = knn(x_test, x_train, y_train.T, k=1)\n",
    "naive_knn_end = time.time()\n",
    "\n",
    "print(\"the search time of LSH is {:3f}, the search time of naive knn is {:3f}\".format((lsh_time_end-lsh_time_start)/3, \n",
    "                                                                                      (naive_knn_end-naive_knn_start)))"
   ]
  },
  {
   "cell_type": "code",
   "execution_count": 31,
   "metadata": {},
   "outputs": [
    {
     "data": {
      "text/plain": [
       "44.36706129709879"
      ]
     },
     "execution_count": 31,
     "metadata": {},
     "output_type": "execute_result"
    }
   ],
   "source": [
    "(lsh_time_end-lsh_time_start)/3"
   ]
  },
  {
   "cell_type": "code",
   "execution_count": 73,
   "metadata": {
    "collapsed": true
   },
   "outputs": [],
   "source": [
    "from scipy.stats import multivariate_normal"
   ]
  },
  {
   "cell_type": "code",
   "execution_count": 83,
   "metadata": {},
   "outputs": [],
   "source": [
    "x = np.linspace(-10,10,1000)\n",
    "y = multivariate_normal.pdf(x, mean=0, cov=0.5)"
   ]
  },
  {
   "cell_type": "code",
   "execution_count": 84,
   "metadata": {},
   "outputs": [
    {
     "data": {
      "image/png": "[encoded data removed]",
      "text/plain": [
       "<matplotlib.figure.Figure at 0x11a84da58>"
      ]
     },
     "metadata": {},
     "output_type": "display_data"
    }
   ],
   "source": [
    "plt.scatter(x,y)\n",
    "plt.show()"
   ]
  },
  {
   "cell_type": "code",
   "execution_count": 87,
   "metadata": {},
   "outputs": [
    {
     "data": {
      "text/plain": [
       "<matplotlib.contour.QuadContourSet at 0x11e13b668>"
      ]
     },
     "execution_count": 87,
     "metadata": {},
     "output_type": "execute_result"
    }
   ],
   "source": [
    "x, y = np.mgrid[-1:1:.01, -1:1:.01]\n",
    "pos = np.empty(x.shape + (2,))\n",
    "pos[:, :, 0] = x; pos[:, :, 1] = y\n",
    "rv = multivariate_normal([0.5, -0.2], [[2.0, 0.3], [0.3, 0.5]])\n",
    "plt.contourf(x, y, rv.pdf(pos), cmap='jet')"
   ]
  },
  {
   "cell_type": "code",
   "execution_count": 88,
   "metadata": {},
   "outputs": [
    {
     "data": {
      "image/png": "[encoded data removed]",
      "text/plain": [
       "<matplotlib.figure.Figure at 0x11a0d8e80>"
      ]
     },
     "metadata": {},
     "output_type": "display_data"
    }
   ],
   "source": [
    "(mean+np.random.randn(1,100))*cov"
   ]
  },
  {
   "cell_type": "code",
   "execution_count": 90,
   "metadata": {},
   "outputs": [
    {
     "data": {
      "text/plain": [
       "(array([], shape=(200, 0, 2), dtype=float64),\n",
       " array([[-1.  , -0.99, -0.98, ...,  0.97,  0.98,  0.99],\n",
       "        [-1.  , -0.99, -0.98, ...,  0.97,  0.98,  0.99],\n",
       "        [-1.  , -0.99, -0.98, ...,  0.97,  0.98,  0.99],\n",
       "        ..., \n",
       "        [-1.  , -0.99, -0.98, ...,  0.97,  0.98,  0.99],\n",
       "        [-1.  , -0.99, -0.98, ...,  0.97,  0.98,  0.99],\n",
       "        [-1.  , -0.99, -0.98, ...,  0.97,  0.98,  0.99]]))"
      ]
     },
     "execution_count": 90,
     "metadata": {},
     "output_type": "execute_result"
    }
   ],
   "source": [
    "pos[:,:0], pos[:,:,1]"
   ]
  },
  {
   "cell_type": "code",
   "execution_count": 36,
   "metadata": {},
   "outputs": [
    {
     "data": {
      "text/plain": [
       "6"
      ]
     },
     "execution_count": 36,
     "metadata": {},
     "output_type": "execute_result"
    }
   ],
   "source": [
    "import math\n",
    "2^(math.ceil(math.log2(10)))"
   ]
  },
  {
   "cell_type": "code",
   "execution_count": null,
   "metadata": {
    "collapsed": true
   },
   "outputs": [],
   "source": []
  }
 ],
 "metadata": {
  "kernelspec": {
   "display_name": "Python 3",
   "language": "python",
   "name": "python3"
  },
  "language_info": {
   "codemirror_mode": {
    "name": "ipython",
    "version": 3
   },
   "file_extension": ".py",
   "mimetype": "text/x-python",
   "name": "python",
   "nbconvert_exporter": "python",
   "pygments_lexer": "ipython3",
   "version": "3.6.3"
  }
 },
 "nbformat": 4,
 "nbformat_minor": 2
}
